{
 "cells": [
  {
   "cell_type": "markdown",
   "metadata": {},
   "source": [
    "**Offical introduction** from colab team\n",
    "\n",
    "https://colab.research.google.com/notebooks/forms.ipynb\n",
    "\n",
    "The ONLY MODIFICATION is the following cell\n"
   ]
  },
  {
   "cell_type": "code",
   "execution_count": null,
   "metadata": {},
   "outputs": [],
   "source": [
    "%load_ext ipyform\n",
    "%form_config --auto-detect 1"
   ]
  },
  {
   "cell_type": "markdown",
   "metadata": {
    "id": "_7gRpQLXQSID"
   },
   "source": [
    "# Forms\n",
    "\n",
    "Forms provide an easy way to parameterize code. From a code cell, select **Insert → Add form field**. When you change the value in a form, the corresponding value in the code will change.\n"
   ]
  },
  {
   "cell_type": "code",
   "execution_count": null,
   "metadata": {
    "id": "3jKM6GfzlgpS"
   },
   "outputs": [],
   "source": [
    "# @title String fields\n",
    "\n",
    "text = \"value\"  # @param {type:\"string\"}\n",
    "dropdown = \"1st option\"  # @param [\"1st option\", \"2nd option\", \"3rd option\"]\n",
    "text_and_dropdown = \"value\"  # @param [\"1st option\", \"2nd option\", \"3rd option\"] {allow-input: true}\n",
    "text_with_placeholder = \"\"  # @param {type:\"string\", placeholder:\"enter a value\"}\n",
    "\n",
    "print(text)\n",
    "print(dropdown)\n",
    "print(text_and_dropdown)\n",
    "print(text_with_placeholder)"
   ]
  },
  {
   "cell_type": "code",
   "execution_count": null,
   "metadata": {
    "id": "bf5LUmgZt-kT"
   },
   "outputs": [],
   "source": [
    "# @title Raw fields\n",
    "\n",
    "raw_input = None  # @param {type:\"raw\"}\n",
    "raw_dropdown = raw_input  # @param [1, \"raw_input\", \"False\", \"'string'\"] {type:\"raw\"}\n",
    "raw_with_placeholder = None  # @param {type:\"raw\", placeholder:\"enter a value\"}\n",
    "\n",
    "print(raw_input)\n",
    "print(raw_dropdown)\n",
    "print(raw_with_placeholder)"
   ]
  },
  {
   "cell_type": "code",
   "execution_count": null,
   "metadata": {
    "id": "aw5lgeRbubeF"
   },
   "outputs": [],
   "source": [
    "# @title Date fields\n",
    "date_input = \"2018-03-22\"  # @param {type:\"date\"}\n",
    "\n",
    "print(date_input)"
   ]
  },
  {
   "cell_type": "code",
   "execution_count": null,
   "metadata": {
    "id": "eFN7-fUKs-Bu"
   },
   "outputs": [],
   "source": [
    "# @title Number fields\n",
    "number_input = 10.0  # @param {type:\"number\"}\n",
    "number_slider = 0  # @param {type:\"slider\", min:-1, max:1, step:0.1}\n",
    "\n",
    "integer_input = 10  # @param {type:\"integer\"}\n",
    "integer_slider = 1  # @param {type:\"slider\", min:0, max:100, step:1}\n",
    "\n",
    "print(number_input)\n",
    "print(number_slider)\n",
    "\n",
    "print(integer_input)\n",
    "print(integer_slider)"
   ]
  },
  {
   "cell_type": "code",
   "execution_count": null,
   "metadata": {
    "id": "ig8PIYeLtM8g"
   },
   "outputs": [],
   "source": [
    "# @title Boolean fields\n",
    "boolean_checkbox = True  # @param {type:\"boolean\"}\n",
    "boolean_dropdown = True  # @param [\"False\", \"True\"] {type:\"raw\"}\n",
    "\n",
    "print(boolean_checkbox)\n",
    "print(boolean_dropdown)"
   ]
  },
  {
   "cell_type": "code",
   "execution_count": null,
   "metadata": {
    "id": "ZCEBZPwUDGOg"
   },
   "outputs": [],
   "source": [
    "# @title ## Markdown\n",
    "# @markdown You can also include Markdown in forms.\n",
    "\n",
    "# @markdown ---\n",
    "# @markdown ### Enter a file path:\n",
    "file_path = \"\"  # @param {type:\"string\"}\n",
    "# @markdown ---\n"
   ]
  },
  {
   "cell_type": "markdown",
   "metadata": {
    "id": "hVEG5D5TxFKW"
   },
   "source": [
    "# Hiding code\n",
    "\n",
    "You can change the view of the form by selecting **View → Show/hide code** or using the toolbar above the selected code cell. You can see both code and the form, just the form, or just the code.\n"
   ]
  },
  {
   "cell_type": "code",
   "execution_count": null,
   "metadata": {
    "id": "ad-fjFOQxoFG"
   },
   "outputs": [],
   "source": [
    "# @title Click `Show code` in the code cell. { display-mode: \"form\" }\n",
    "\n",
    "option1 = \"A\"  # @param [\"A\", \"B\", \"C\"]\n",
    "print(\"You selected\", option1)\n"
   ]
  },
  {
   "cell_type": "code",
   "execution_count": null,
   "metadata": {
    "id": "h9aZYKhly2h_"
   },
   "outputs": [],
   "source": [
    "# @title After running this cell manually, it will auto-run if you change the selected value. { run: \"auto\" }\n",
    "\n",
    "option2 = \"A\"  # @param [\"A\", \"B\", \"C\"]\n",
    "print(\"You selected\", option2)\n"
   ]
  },
  {
   "cell_type": "code",
   "execution_count": null,
   "metadata": {},
   "outputs": [],
   "source": []
  },
  {
   "cell_type": "code",
   "execution_count": null,
   "metadata": {},
   "outputs": [],
   "source": []
  },
  {
   "cell_type": "code",
   "execution_count": null,
   "metadata": {},
   "outputs": [],
   "source": []
  },
  {
   "cell_type": "code",
   "execution_count": null,
   "metadata": {},
   "outputs": [],
   "source": []
  }
 ],
 "metadata": {
  "colab": {
   "name": "Forms",
   "provenance": [],
   "toc_visible": true
  },
  "kernelspec": {
   "display_name": "Python 3 (ipykernel)",
   "language": "python",
   "name": "python3"
  },
  "language_info": {
   "codemirror_mode": {
    "name": "ipython",
    "version": 3
   },
   "file_extension": ".py",
   "mimetype": "text/x-python",
   "name": "python",
   "nbconvert_exporter": "python",
   "pygments_lexer": "ipython3",
   "version": "3.9.6"
  }
 },
 "nbformat": 4,
 "nbformat_minor": 4
}
